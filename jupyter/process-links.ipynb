{
 "cells": [
  {
   "cell_type": "code",
   "execution_count": 1,
   "metadata": {},
   "outputs": [],
   "source": [
    "import os\n",
    "import json\n",
    "import collections"
   ]
  },
  {
   "cell_type": "code",
   "execution_count": 2,
   "metadata": {},
   "outputs": [],
   "source": [
    "DATA_DIR = ''\n",
    "assert os.path.isdir(DATA_DIR)\n",
    "\n",
    "fname = 'links.json'\n",
    "fpath = os.path.join(DATA_DIR, fname)\n",
    "assert os.path.isfile(fpath)"
   ]
  },
  {
   "cell_type": "code",
   "execution_count": 3,
   "metadata": {},
   "outputs": [],
   "source": [
    "with open(fpath, 'r') as f:\n",
    "    data = json.load(f)"
   ]
  },
  {
   "cell_type": "code",
   "execution_count": 4,
   "metadata": {},
   "outputs": [],
   "source": [
    "def create_node_dict(data):\n",
    "    node_data = dict()\n",
    "    attr_fields = ['user_id', 'name', 'email', 'start_date']\n",
    "\n",
    "    for entity in data:\n",
    "        node_id = entity.get('user_id')\n",
    "        attrs = node_data.get(node_id, {})\n",
    "        for field in attr_fields:\n",
    "            values = attrs.get(field, [])\n",
    "            new_value = entity.get(field)\n",
    "            if not new_value is None:\n",
    "                values.append(new_value)\n",
    "            attrs[field] = values\n",
    "        node_data[node_id] = attrs\n",
    "\n",
    "    delimiter = ','\n",
    "    node_lookup = dict()\n",
    "    for node_id, attrs in node_data.items():\n",
    "        rec = dict()\n",
    "        for field in attr_fields:\n",
    "            values = attrs.get(field, [])\n",
    "            if field == 'start_date':\n",
    "                rec[field] = min(values)\n",
    "                continue\n",
    "            if values:\n",
    "                rec[field] = delimiter.join(values)\n",
    "        node_lookup[node_id] = rec\n",
    "    \n",
    "    return node_lookup"
   ]
  },
  {
   "cell_type": "code",
   "execution_count": 5,
   "metadata": {},
   "outputs": [],
   "source": [
    "def create_edge_table(data):\n",
    "    table = []\n",
    "    attr_fields = ['method', 'value', 'first_activity_date', 'last_activity_date']\n",
    "    default_value = 'None'\n",
    "    for entity in data:\n",
    "        source_id = entity.get('user_id')\n",
    "        shared_data = entity.get('shared_data', [])\n",
    "        if shared_data:\n",
    "            for d in shared_data:\n",
    "                target_id = d.get('user_id')\n",
    "                if not target_id is None:\n",
    "                    edge_data = dict()\n",
    "                    for field in attr_fields:\n",
    "                        edge_data[field] = d.get(field, default_value)\n",
    "                    edge = {\n",
    "                        'source': source_id,\n",
    "                        'target': target_id,\n",
    "                        'data': edge_data\n",
    "                    }\n",
    "                    table.append(edge)\n",
    "    return table"
   ]
  },
  {
   "cell_type": "code",
   "execution_count": 6,
   "metadata": {
    "scrolled": true
   },
   "outputs": [],
   "source": [
    "edges = create_edge_table(data)"
   ]
  },
  {
   "cell_type": "code",
   "execution_count": 7,
   "metadata": {},
   "outputs": [],
   "source": [
    "labeling_dict = collections.defaultdict(list)\n",
    "\n",
    "for edge in edges:\n",
    "    for label in ['source', 'target']:\n",
    "        id_value = edge[label]\n",
    "        labeling_dict[id_value].append(label)\n",
    "\n",
    "color_map = {'source & target': 'red', 'source': 'yellow', 'target': 'gray'}\n",
    "color_dict = dict(labeling_dict)\n",
    "\n",
    "for node_id in color_dict:\n",
    "    counts = collections.Counter(color_dict.get(node_id))\n",
    "    res = ' & '.join(sorted(list(dict(counts).keys())))\n",
    "    color_dict[node_id] = color_map.get(res, 'gray')"
   ]
  },
  {
   "cell_type": "code",
   "execution_count": 8,
   "metadata": {},
   "outputs": [],
   "source": [
    "def apply_node_attributes(\n",
    "    edges,\n",
    "    node_dict={},\n",
    "    color_dict={},\n",
    "    labels=('source', 'target')\n",
    "):\n",
    "    table = []\n",
    "    for edge in edges:\n",
    "        for label in labels:\n",
    "            edge[f\"{label}_attrs\"] = node_dict.get(edge[label], {})\n",
    "            edge[f\"{label}_color\"] = color_dict.get(edge[label], 'gray')\n",
    "        table.append(edge)\n",
    "    return table"
   ]
  },
  {
   "cell_type": "code",
   "execution_count": 9,
   "metadata": {},
   "outputs": [],
   "source": [
    "def dedupe_edges(edges):\n",
    "    edge_set = set()\n",
    "    table = []\n",
    "    for edge in edges:\n",
    "        data_string = f\"{edge['data']['method']} | {edge['data']['value']}\"\n",
    "        t1 = (edge['source'], edge['target'], data_string)\n",
    "        t2 = (edge['target'], edge['source'], data_string)\n",
    "        if t1 in edge_set:\n",
    "            continue\n",
    "        else:\n",
    "            edge_set.add(t1)\n",
    "            edge_set.add(t2)\n",
    "            table.append(edge)\n",
    "    return table"
   ]
  },
  {
   "cell_type": "code",
   "execution_count": 10,
   "metadata": {},
   "outputs": [],
   "source": [
    "edge_table = apply_node_attributes(dedupe_edges(edges), node_dict=create_node_dict(data), color_dict=color_dict)"
   ]
  }
 ],
 "metadata": {
  "kernelspec": {
   "display_name": "Python 3",
   "language": "python",
   "name": "python3"
  },
  "language_info": {
   "codemirror_mode": {
    "name": "ipython",
    "version": 3
   },
   "file_extension": ".py",
   "mimetype": "text/x-python",
   "name": "python",
   "nbconvert_exporter": "python",
   "pygments_lexer": "ipython3",
   "version": "3.8.5"
  }
 },
 "nbformat": 4,
 "nbformat_minor": 4
}
