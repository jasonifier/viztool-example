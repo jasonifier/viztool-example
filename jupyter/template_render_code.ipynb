{
 "cells": [
  {
   "cell_type": "code",
   "execution_count": 1,
   "metadata": {},
   "outputs": [],
   "source": [
    "import json\n",
    "from jinja2 import Environment, FileSystemLoader\n",
    "from IPython.display import FileLink"
   ]
  },
  {
   "cell_type": "code",
   "execution_count": 2,
   "metadata": {},
   "outputs": [
    {
     "name": "stdout",
     "output_type": "stream",
     "text": [
      "Hello world!\n"
     ]
    }
   ],
   "source": [
    "env = Environment(loader=FileSystemLoader('templates'))\n",
    "template = env.get_template('hello.jinja')\n",
    "output = template.render()\n",
    "print(output)"
   ]
  },
  {
   "cell_type": "code",
   "execution_count": 3,
   "metadata": {},
   "outputs": [],
   "source": [
    "nodes = [\n",
    "    {\n",
    "      \"id\": \"547879\",\n",
    "      \"text\": \"User Id: 547879 \\nName: David Webb \\nEmail: iwebb8@yahoo.com \\nStart Date: 2024-10-16 15:41:50 \",\n",
    "      \"group\": 1\n",
    "    },\n",
    "    {\n",
    "      \"id\": \"194152\",\n",
    "      \"text\": \"User Id: 194152 \\nName: Mr. Ronald Brown \\nEmail: ronald14@yahoo.com \\nStart Date: 2024-10-13 00:44:13 \",\n",
    "      \"group\": 1\n",
    "    },\n",
    "    {\n",
    "      \"id\": \"502416\",\n",
    "      \"text\": \"User Id: 502416 \\nName: Jeff Cobb \\nEmail: greenjeffery@hotmail.com \\nStart Date: 2024-10-08 01:55:56 \",\n",
    "      \"group\": 1\n",
    "    },\n",
    "    {\n",
    "      \"id\": \"655563\",\n",
    "      \"text\": \"User Id: 655563 \\nName: Jennifer Perez \\nEmail: jperez@hotmail.com \\nStart Date: 2024-10-09 20:20:01 \",\n",
    "      \"group\": 1\n",
    "    },\n",
    "    {\n",
    "      \"id\": \"188287\",\n",
    "      \"text\": \"User Id: 188287 \\nName: Michael Henderson \\nEmail: michael58@yahoo.com \\nStart Date: 2024-10-21 04:52:29 \",\n",
    "      \"group\": 1\n",
    "    },\n",
    "    {\n",
    "      \"id\": \"4330522556171\",\n",
    "      \"text\": \"Method: credit_card \\nValue: 4330522556171 \\nFirst Activity Date: 2024-10-09 20:20:01 \\nLast Activity Date: 2024-10-16 15:41:50 \",\n",
    "      \"group\": 2\n",
    "    },\n",
    "    {\n",
    "      \"id\": \"ticket_WMJnCPXtnx\",\n",
    "      \"text\": \"Method: transfer \\nValue: ticket_WMJnCPXtnx \\nFirst Activity Date: 2024-10-18 20:25:01 \\nLast Activity Date: 2024-10-22 18:53:45 \",\n",
    "      \"group\": 3\n",
    "    },\n",
    "    {\n",
    "      \"id\": \"ticket_TipAgXvgHk\",\n",
    "      \"text\": \"Method: transfer \\nValue: ticket_TipAgXvgHk \\nFirst Activity Date: 2024-10-15 17:14:31 \\nLast Activity Date: 2024-10-15 17:14:31 \",\n",
    "      \"group\": 3\n",
    "    }\n",
    "]"
   ]
  },
  {
   "cell_type": "code",
   "execution_count": 4,
   "metadata": {},
   "outputs": [],
   "source": [
    "links = [\n",
    "    {\n",
    "      \"source\": \"547879\",\n",
    "      \"target\": \"4330522556171\",\n",
    "      \"timestamp\": \"2024-10-16 15:41:50\"\n",
    "    },\n",
    "    {\n",
    "      \"source\": \"4330522556171\",\n",
    "      \"target\": \"655563\",\n",
    "      \"timestamp\": \"2024-10-16 15:41:50\"\n",
    "    },\n",
    "    {\n",
    "      \"source\": \"547879\",\n",
    "      \"target\": \"ticket_WMJnCPXtnx\",\n",
    "      \"timestamp\": \"2024-10-18 20:25:01\"\n",
    "    },\n",
    "    {\n",
    "      \"source\": \"ticket_WMJnCPXtnx\",\n",
    "      \"target\": \"655563\",\n",
    "      \"timestamp\": \"2024-10-18 20:25:01\"\n",
    "    },\n",
    "    {\n",
    "      \"source\": \"194152\",\n",
    "      \"target\": \"ticket_TipAgXvgHk\",\n",
    "      \"timestamp\": \"2024-10-15 17:14:31\"\n",
    "    },\n",
    "    {\n",
    "      \"source\": \"ticket_TipAgXvgHk\",\n",
    "      \"target\": \"502416\",\n",
    "      \"timestamp\": \"2024-10-15 17:14:31\"\n",
    "    },\n",
    "    {\n",
    "      \"source\": \"655563\",\n",
    "      \"target\": \"ticket_WMJnCPXtnx\",\n",
    "      \"timestamp\": \"2024-10-22 18:53:45\"\n",
    "    },\n",
    "    {\n",
    "      \"source\": \"ticket_WMJnCPXtnx\",\n",
    "      \"target\": \"188287\",\n",
    "      \"timestamp\": \"2024-10-22 18:53:45\"\n",
    "    }\n",
    "]"
   ]
  },
  {
   "cell_type": "code",
   "execution_count": 5,
   "metadata": {},
   "outputs": [],
   "source": [
    "data = {\"nodes\": nodes, \"links\": links}"
   ]
  },
  {
   "cell_type": "code",
   "execution_count": 6,
   "metadata": {},
   "outputs": [],
   "source": [
    "env = Environment(loader=FileSystemLoader('templates'))\n",
    "template = env.get_template('basicGraph.jinja')\n",
    "outfile = 'renders/output.html'\n",
    "with open(outfile, 'w') as f:\n",
    "    print(template.render(data=data), file=f)"
   ]
  },
  {
   "cell_type": "code",
   "execution_count": 7,
   "metadata": {},
   "outputs": [
    {
     "data": {
      "text/html": [
       "<a href='renders/output.html' target='_blank'>renders/output.html</a><br>"
      ],
      "text/plain": [
       "C:\\Users\\jason\\Documents\\DataScience\\WebDevelopment\\bootstrap\\viztool-example\\jupyter\\renders\\output.html"
      ]
     },
     "execution_count": 7,
     "metadata": {},
     "output_type": "execute_result"
    }
   ],
   "source": [
    "FileLink(outfile)"
   ]
  }
 ],
 "metadata": {
  "kernelspec": {
   "display_name": "Python 3",
   "language": "python",
   "name": "python3"
  },
  "language_info": {
   "codemirror_mode": {
    "name": "ipython",
    "version": 3
   },
   "file_extension": ".py",
   "mimetype": "text/x-python",
   "name": "python",
   "nbconvert_exporter": "python",
   "pygments_lexer": "ipython3",
   "version": "3.8.5"
  }
 },
 "nbformat": 4,
 "nbformat_minor": 4
}
