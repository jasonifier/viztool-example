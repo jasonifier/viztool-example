{
 "cells": [
  {
   "cell_type": "code",
   "execution_count": 1,
   "id": "5eaf5389-b56a-468f-92dc-499479f22f0a",
   "metadata": {},
   "outputs": [],
   "source": [
    "import nltk\n",
    "import string\n",
    "from pprint import pprint\n",
    "from nltk.corpus import brown\n",
    "from gensim import corpora\n",
    "from gensim.models import Word2Vec, TfidfModel\n",
    "from gensim.parsing.preprocessing import remove_stopwords\n",
    "from gensim import similarities\n",
    "from sklearn.decomposition import PCA\n",
    "import numpy as np\n",
    "from matplotlib import pyplot\n",
    "from collections import defaultdict"
   ]
  },
  {
   "cell_type": "code",
   "execution_count": 2,
   "id": "6e5d693e-cd1a-4de4-8d4c-88f4a2b0831f",
   "metadata": {},
   "outputs": [],
   "source": [
    "%matplotlib inline"
   ]
  },
  {
   "cell_type": "code",
   "execution_count": 3,
   "id": "f504d2d0-d9b4-4cc6-9be1-e621c81530bd",
   "metadata": {},
   "outputs": [],
   "source": [
    "# nltk.download(\"brown\")"
   ]
  },
  {
   "cell_type": "code",
   "execution_count": 4,
   "id": "4947a0b4-0102-4fa1-a559-011fb2c33782",
   "metadata": {},
   "outputs": [],
   "source": [
    "def clean_sentences(sentences, use_stopwords=True):\n",
    "    data = []\n",
    "    space = ' '\n",
    "    for sentence in sentences:\n",
    "        new_sentence = space.join([word.lower() for word in sentence])\n",
    "        if use_stopwords:\n",
    "            new_sentence = remove_stopwords(new_sentence)\n",
    "        clean_sentence = []\n",
    "        for new_word in new_sentence.split():\n",
    "            if new_word[0] not in string.punctuation:\n",
    "                clean_sentence.append(new_word)\n",
    "        if len(clean_sentence) > 0:\n",
    "            data.append(space.join(clean_sentence))\n",
    "    return data"
   ]
  },
  {
   "cell_type": "code",
   "execution_count": 5,
   "id": "9033c1f6-b170-42ea-a290-d355f6f62252",
   "metadata": {},
   "outputs": [],
   "source": [
    "sentences = brown.sents()"
   ]
  },
  {
   "cell_type": "code",
   "execution_count": 6,
   "id": "460a27ed-f66c-4c0b-8bce-acfca5c205cc",
   "metadata": {},
   "outputs": [],
   "source": [
    "new_sentences = clean_sentences(sentences)"
   ]
  },
  {
   "cell_type": "code",
   "execution_count": 7,
   "id": "29740bd7-80b2-4b25-9a5b-c6791b9db5cf",
   "metadata": {},
   "outputs": [],
   "source": [
    "# remove words that appear only once\n",
    "frequency = defaultdict(int)\n",
    "for text in new_sentences:\n",
    "    for token in text.split():\n",
    "        frequency[token] += 1\n",
    "\n",
    "texts = [\n",
    "    [token for token in text.split() if frequency[token] > 1]\n",
    "    for text in new_sentences\n",
    "]"
   ]
  },
  {
   "cell_type": "code",
   "execution_count": 8,
   "id": "60e0f9ba-73c3-404c-8e7c-ecf0e658bc54",
   "metadata": {},
   "outputs": [],
   "source": [
    "model = Word2Vec(\n",
    "    sentences=texts,\n",
    "    vector_size=50,\n",
    "    window=10,\n",
    "    epochs=20\n",
    ")"
   ]
  },
  {
   "cell_type": "code",
   "execution_count": 9,
   "id": "b2588735-0f3b-4445-a60f-b0c7a1ecbc20",
   "metadata": {},
   "outputs": [
    {
     "name": "stdout",
     "output_type": "stream",
     "text": [
      "3 words similar to car\n",
      "('vote', 0.9073786735534668)\n",
      "('official', 0.9039979577064514)\n",
      "('charter', 0.8944346904754639)\n"
     ]
    }
   ],
   "source": [
    "# Finding most similar words\n",
    "print(\"3 words similar to car\")\n",
    "words = model.wv.most_similar(\"election\", topn=3)\n",
    "for word in words:\n",
    "  print(word)"
   ]
  },
  {
   "cell_type": "code",
   "execution_count": 10,
   "id": "93d9ed53-ac21-4788-bf8c-4901207d442c",
   "metadata": {},
   "outputs": [],
   "source": [
    "words = [\"france\", \"germany\", \"india\", \"truck\", \"boat\", \"road\", \"teacher\", \"student\"]"
   ]
  },
  {
   "cell_type": "code",
   "execution_count": 11,
   "id": "fe02a1f5-e93a-48c3-ab4a-49545133f732",
   "metadata": {},
   "outputs": [],
   "source": [
    "X = model.wv[words]"
   ]
  },
  {
   "cell_type": "code",
   "execution_count": 12,
   "id": "89930719-3941-4d20-87ee-5a4ff62043ff",
   "metadata": {},
   "outputs": [],
   "source": [
    "pca = PCA(n_components=2)\n",
    "result = pca.fit_transform(X)"
   ]
  },
  {
   "cell_type": "code",
   "execution_count": 13,
   "id": "9892e101-b57c-4ed2-bb17-53b7a89284a1",
   "metadata": {},
   "outputs": [
    {
     "data": {
      "image/png": "[encoded data removed]",
      "text/plain": [
       "<Figure size 640x480 with 1 Axes>"
      ]
     },
     "metadata": {},
     "output_type": "display_data"
    }
   ],
   "source": [
    "pyplot.scatter(result[:, 0], result[:, 1])\n",
    "for i, word in enumerate(words):\n",
    "    pyplot.annotate(word, xy=(result[i, 0], result[i, 1]))\n",
    "pyplot.show()"
   ]
  },
  {
   "cell_type": "code",
   "execution_count": 14,
   "id": "8d881e88-044c-4756-aa0b-a4db21b7469d",
   "metadata": {},
   "outputs": [
    {
     "name": "stdout",
     "output_type": "stream",
     "text": [
      "Dictionary<27350 unique tokens: [\"atlanta's\", 'county', 'election', 'evidence', 'friday']...>\n"
     ]
    }
   ],
   "source": [
    "dictionary = corpora.Dictionary(texts)\n",
    "print(dictionary)"
   ]
  },
  {
   "cell_type": "code",
   "execution_count": 15,
   "id": "c161604d-114b-4acf-b490-a90ebe83a4d9",
   "metadata": {},
   "outputs": [
    {
     "name": "stdout",
     "output_type": "stream",
     "text": [
      "[(2, 1), (53, 1), (365, 1), (2170, 1)]\n"
     ]
    }
   ],
   "source": [
    "new_document = 'election ballot and voter registration'\n",
    "new_vector = dictionary.doc2bow(new_document.split())\n",
    "print(new_vector)"
   ]
  },
  {
   "cell_type": "code",
   "execution_count": 16,
   "id": "5f204af6-1bf7-4c4a-bd03-3e7bd0e5471f",
   "metadata": {},
   "outputs": [
    {
     "name": "stdout",
     "output_type": "stream",
     "text": [
      "election: (2, 1)\n",
      "ballot: (365, 1)\n",
      "and: (0, 0)\n",
      "voter: (2170, 1)\n",
      "registration: (53, 1)\n"
     ]
    }
   ],
   "source": [
    "# each word appears 1 time in the new document\n",
    "for word in new_document.split():\n",
    "    try:\n",
    "        res = (dictionary.token2id[word], 1)\n",
    "    except KeyError:\n",
    "        res = (0, 0)\n",
    "    print(f'{word}: {res}')"
   ]
  },
  {
   "cell_type": "code",
   "execution_count": 17,
   "id": "72611fdf-9f8a-422e-a3f7-678c74cb68b9",
   "metadata": {},
   "outputs": [],
   "source": [
    "# collection of vectors in the training data\n",
    "bow_corpus = [dictionary.doc2bow(text) for text in texts]"
   ]
  },
  {
   "cell_type": "code",
   "execution_count": 18,
   "id": "2b3c258c-0f7d-4847-ac14-13d922057ab0",
   "metadata": {},
   "outputs": [],
   "source": [
    "tfidf = TfidfModel(bow_corpus)"
   ]
  },
  {
   "cell_type": "code",
   "execution_count": 19,
   "id": "9caf314e-27f3-4e2b-af8f-dcf472b3f7a5",
   "metadata": {},
   "outputs": [
    {
     "name": "stdout",
     "output_type": "stream",
     "text": [
      "[(2, 0.4051067509154737), (53, 0.47910526466167225), (365, 0.5160816137578943), (2170, 0.5831007062911387)]\n"
     ]
    }
   ],
   "source": [
    "print(tfidf[new_vector])"
   ]
  },
  {
   "cell_type": "code",
   "execution_count": 20,
   "id": "3d995efe-6e6f-44f1-9182-9b23c96b1cb8",
   "metadata": {},
   "outputs": [],
   "source": [
    "index = similarities.SparseMatrixSimilarity(tfidf[bow_corpus], num_features=len(dictionary.token2id))"
   ]
  },
  {
   "cell_type": "code",
   "execution_count": 21,
   "id": "f0f31a26-1c69-4ead-9fa4-2c0b9ae78193",
   "metadata": {},
   "outputs": [],
   "source": [
    "query_document = 'atlanta hawks basketball team'.split()\n",
    "query_vector = dictionary.doc2bow(query_document)\n",
    "sims = index[tfidf[query_vector]]"
   ]
  },
  {
   "cell_type": "code",
   "execution_count": 22,
   "id": "c1add62b-7725-40ee-8a1c-e052b37d8236",
   "metadata": {},
   "outputs": [
    {
     "name": "stdout",
     "output_type": "stream",
     "text": [
      "Doc #179 - Score: 0.46595728397369385\n",
      "Doc #1381 - Score: 0.39266160130500793\n",
      "Doc #55266 - Score: 0.38923540711402893\n",
      "Doc #55260 - Score: 0.3638986647129059\n",
      "Doc #6067 - Score: 0.336804062128067\n",
      "Doc #55263 - Score: 0.33241623640060425\n",
      "Doc #18473 - Score: 0.30800268054008484\n",
      "Doc #4037 - Score: 0.3059864342212677\n",
      "Doc #15068 - Score: 0.29378369450569153\n",
      "Doc #22013 - Score: 0.2923979163169861\n"
     ]
    }
   ],
   "source": [
    "top_n = 10\n",
    "sims_list = sorted(enumerate(sims), key=lambda x: x[1], reverse=True)\n",
    "for document_number, score in sims_list[:top_n]:\n",
    "    print(f'Doc #{document_number} - Score: {score}')"
   ]
  },
  {
   "cell_type": "code",
   "execution_count": 23,
   "id": "33fd7b04-9051-4de6-979f-ffb722d155a6",
   "metadata": {},
   "outputs": [
    {
     "data": {
      "text/plain": [
       "'During his college career , Dr. Clark was captain of his basketball team and was a football letterman .'"
      ]
     },
     "execution_count": 23,
     "metadata": {},
     "output_type": "execute_result"
    }
   ],
   "source": [
    "' '.join(sentences[179])"
   ]
  }
 ],
 "metadata": {
  "kernelspec": {
   "display_name": "Python 3 (ipykernel)",
   "language": "python",
   "name": "python3"
  },
  "language_info": {
   "codemirror_mode": {
    "name": "ipython",
    "version": 3
   },
   "file_extension": ".py",
   "mimetype": "text/x-python",
   "name": "python",
   "nbconvert_exporter": "python",
   "pygments_lexer": "ipython3",
   "version": "3.8.20"
  }
 },
 "nbformat": 4,
 "nbformat_minor": 5
}
